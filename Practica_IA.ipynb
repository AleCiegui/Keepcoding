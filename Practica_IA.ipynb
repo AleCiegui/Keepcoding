{
 "cells": [
  {
   "cell_type": "markdown",
   "metadata": {
    "id": "Z2v3JuSp5hEu"
   },
   "source": [
    "# Practica IA\n",
    "\n",
    "Utilizaremos la API de `together.ai` para hacer clasificacion de etiquetas.\n",
    "\n"
   ]
  },
  {
   "cell_type": "code",
   "execution_count": 17,
   "metadata": {
    "colab": {
     "base_uri": "https://localhost:8080/"
    },
    "executionInfo": {
     "elapsed": 15916,
     "status": "ok",
     "timestamp": 1740434275620,
     "user": {
      "displayName": "Eric Risco de la Torre",
      "userId": "16820333876295128124"
     },
     "user_tz": -60
    },
    "id": "DPaKGIjxKCn4",
    "outputId": "e9a57226-472c-4c3e-e2f0-6b3ceaddd9b0"
   },
   "outputs": [],
   "source": [
    "import os\n",
    "os.environ[\"TOGETHER_API_KEY\"] =  \"tgp_v1_2taO6Uxvh4tv49dnP5wNN6slSiKEvgsQZPXdSPYHnJA\""
   ]
  },
  {
   "cell_type": "markdown",
   "metadata": {},
   "source": [
    "tgp_v1_2taO6Uxvh4tv49dnP5wNN6slSiKEvgsQZPXdSPYHnJA"
   ]
  },
  {
   "cell_type": "markdown",
   "metadata": {
    "id": "HbGXGZhvLMJH"
   },
   "source": [
    "## Inferencia con Llama 3.3"
   ]
  },
  {
   "cell_type": "code",
   "execution_count": 7,
   "metadata": {
    "executionInfo": {
     "elapsed": 4,
     "status": "ok",
     "timestamp": 1740434285470,
     "user": {
      "displayName": "Eric Risco de la Torre",
      "userId": "16820333876295128124"
     },
     "user_tz": -60
    },
    "id": "RkZrBPJ4LL1g"
   },
   "outputs": [],
   "source": [
    "#model=\"meta-llama/Llama-3.2-3B-Instruct-Turbo\"\n",
    "model=\"meta-llama/Llama-3.3-70B-Instruct-Turbo-Free\""
   ]
  },
  {
   "cell_type": "code",
   "execution_count": null,
   "metadata": {},
   "outputs": [],
   "source": [
    "pip install together"
   ]
  },
  {
   "cell_type": "markdown",
   "metadata": {},
   "source": [
    "Prueba de API"
   ]
  },
  {
   "cell_type": "code",
   "execution_count": 18,
   "metadata": {},
   "outputs": [
    {
     "name": "stdout",
     "output_type": "stream",
     "text": [
      "The city that never sleeps! New York has endless options for entertainment, culture, and adventure. Here are some fun things to do in New York:\n",
      "\n",
      "**Iconic Landmarks:**\n",
      "\n",
      "1. Statue of Liberty and Ellis Island: Take a ferry to Liberty Island to see the iconic statue up close and visit the Ellis Island Immigration Museum.\n",
      "2. Central Park: Explore the park's many walking paths, lakes, and landmarks like the Bethesda Fountain and Loeb Boathouse.\n",
      "3. Times Square: Experience the bright lights and energy of the \"Crossroads of the World.\"\n",
      "4. Empire State Building: Enjoy panoramic views of the city from the observation deck on the 86th floor.\n",
      "5. Brooklyn Bridge: Walk or bike across the iconic bridge for spectacular city views.\n",
      "\n",
      "**Museums and Galleries:**\n",
      "\n",
      "1. The Metropolitan Museum of Art: One of the world's largest and most renowned museums, with a collection that spans over 5,000 years of human history.\n",
      "2. American Museum of Natural History: Explore exhibits on dinosaurs, space, and the natural world.\n",
      "3. Museum of Modern Art (MoMA): Discover an extensive collection of modern and contemporary art.\n",
      "4. Guggenheim Museum: Admire the unique architecture and innovative exhibitions.\n",
      "5. 9/11 Memorial & Museum: A poignant tribute to the victims of the 9/11 attacks.\n",
      "\n",
      "**Food and Drink:**\n",
      "\n",
      "1. Try a classic New York-style pizza slice at Lombardi's, Joe's Pizza, or Patsy's Pizzeria.\n",
      "2. Visit a iconic diner like Ellen's Stardust Diner or the Tick Tock Diner.\n",
      "3. Explore the diverse culinary scene in Chinatown, Little Italy, or Koreatown.\n",
      "4. Take a food tour of the city's many markets, such as Smorgasburg or Chelsea Market.\n",
      "5. Enjoy a Broadway show and a pre-theater dinner at a classic restaurant like Carmine's or Carbone.\n",
      "\n",
      "**Performing Arts:**\n",
      "\n",
      "1. Broadway Shows: Catch a performance of a hit musical or play on the Great White Way.\n",
      "2. Lincoln Center: Attend a concert, ballet, or opera performance at this world-renowned cultural complex.\n",
      "3. Carnegie Hall: Experience the iconic concert venue's perfect acoustics and diverse programming.\n",
      "4. Jazz Clubs: Visit legendary clubs like Blue Note, Village Vanguard, or Birdland.\n",
      "5. Comedy Clubs: Laugh out loud at comedy clubs like Carolines on Broadway or the Comedy Cellar.\n",
      "\n",
      "**Outdoor Activities:**\n",
      "\n",
      "1. Walk or bike along the Hudson River Greenway: Enjoy stunning views of the river and New Jersey Palisades.\n",
      "2. Visit the High Line: An elevated park built on an old rail line, with great views of the city.\n",
      "3. Explore the Bronx's Van Cortlandt Park: A large park with hiking trails, a lake, and a nature center.\n",
      "4. Take a stroll through Brooklyn's Prospect Park: A beautiful park with a lake, walking trails, and plenty of picnic spots.\n",
      "5. Go kayaking or paddleboarding on the Hudson River: Rent equipment and enjoy the city from a different perspective.\n",
      "\n",
      "**Sports:**\n",
      "\n",
      "1. Catch a Yankees game at Yankee Stadium: Experience the excitement of a live baseball game.\n",
      "2. Visit Madison Square Garden: Home of the New York Knicks (basketball) and New York Rangers (hockey).\n",
      "3. Watch a US Open tennis match at Flushing Meadows: One of the most prestigious tennis tournaments in the world.\n",
      "4. Take a tour of Citi Field: Home of the New York Mets baseball team.\n",
      "5. Go to a Brooklyn Nets game at Barclays Center: Experience the energy of a live basketball game.\n",
      "\n",
      "**Shopping:**\n",
      "\n",
      "1. Fifth Avenue: Luxury shopping at its finest, with iconic department stores like Saks Fifth Avenue and Bergdorf Goodman.\n",
      "2. SoHo: Trendy boutiques, art galleries, and cast-iron buildings make this neighborhood a shopper's paradise.\n",
      "3. Greenwich Village: Discover unique, independent shops and vintage stores.\n",
      "4. Brooklyn Flea: A weekend market featuring vintage goods, antiques, and artisanal foods.\n",
      "5. Macy's Herald Square: The iconic department store is a must-visit for any shopper.\n",
      "\n",
      "These are just a few of the many fun things to do in New York. Whether you're interested in history, culture, food, or entertainment, the city has something for everyone.\n"
     ]
    }
   ],
   "source": [
    "from together import Together\n",
    "\n",
    "client = Together()\n",
    "\n",
    "response = client.chat.completions.create(\n",
    "    model=\"meta-llama/Llama-3.3-70B-Instruct-Turbo-Free\",\n",
    "    messages=[{\"role\": \"user\", \"content\": \"What are some fun things to do in New York?\"}],\n",
    ")\n",
    "print(response.choices[0].message.content)"
   ]
  },
  {
   "cell_type": "code",
   "execution_count": 19,
   "metadata": {},
   "outputs": [
    {
     "name": "stdout",
     "output_type": "stream",
     "text": [
      "I can be used in a variety of ways, from helping you plan a vacation to creating art. I'm here to assist you in finding the help or information you need. My strengths include answering questions, generating text and images and even just chatting with you."
     ]
    }
   ],
   "source": [
    "from together import Together\n",
    "\n",
    "client = Together()\n",
    "\n",
    "response = client.chat.completions.create(\n",
    "    model=\"meta-llama/Llama-3.3-70B-Instruct-Turbo-Free\",\n",
    "    messages=[],\n",
    "    max_tokens=None,\n",
    "    temperature=0.7,\n",
    "    top_p=0.7,\n",
    "    top_k=50,\n",
    "    repetition_penalty=1,\n",
    "    stop=[\"<|eot_id|>\",\"<|eom_id|>\"],\n",
    "    stream=True\n",
    ")\n",
    "for token in response:\n",
    "    if hasattr(token, 'choices'):\n",
    "        print(token.choices[0].delta.content, end='', flush=True)"
   ]
  },
  {
   "cell_type": "markdown",
   "metadata": {},
   "source": [
    "Texto de etiqueta para  clasificacion"
   ]
  },
  {
   "cell_type": "code",
   "execution_count": 20,
   "metadata": {},
   "outputs": [],
   "source": [
    "Etiqueta = \"\"\"\n",
    "Eau de Parfum\n",
    "Ingredientes: ver envase\n",
    "Precauciones: Inflamable. Mantener fuera del alcance de los niños. Mantener en lugar fresco y seco. Sólo para uso externo.\n",
    "Ver lote y fecha de caducidad en el envase. \n",
    "Persona responsable: \n",
    "Trending Corporate S.L.C/ Gremios nº5 Benacazón. España. \n",
    " \"\"\"\n"
   ]
  },
  {
   "cell_type": "code",
   "execution_count": 24,
   "metadata": {
    "executionInfo": {
     "elapsed": 5,
     "status": "ok",
     "timestamp": 1740434287244,
     "user": {
      "displayName": "Eric Risco de la Torre",
      "userId": "16820333876295128124"
     },
     "user_tz": -60
    },
    "id": "hfyBFlp4LQez"
   },
   "outputs": [],
   "source": [
    "prompt = f\"\"\"\n",
    "De cada etiqueta, traduciras a json el texto tomando \n",
    "las categorias y su contenido, no expliques como lo haces.\n",
    "Despues las añadiras a un archivo llamado: \"etiquetas.json\"\n",
    "Al añadirlo muestra el mensaje \"Producto añadido\", si no es posible\n",
    "indicalo con el mensaje \"Error al actualizar la lista\".\n",
    "\n",
    "Las categorias son:\n",
    "- Nombre\n",
    "- Ingredientes\n",
    "- Precauciones\n",
    "- Persona responsable\n",
    "\n",
    "Etiqueta: ```{Etiqueta}```\n",
    "\"\"\""
   ]
  },
  {
   "cell_type": "code",
   "execution_count": 25,
   "metadata": {
    "colab": {
     "base_uri": "https://localhost:8080/"
    },
    "executionInfo": {
     "elapsed": 42,
     "status": "ok",
     "timestamp": 1740434293441,
     "user": {
      "displayName": "Eric Risco de la Torre",
      "userId": "16820333876295128124"
     },
     "user_tz": -60
    },
    "id": "so35IBUQLdX4",
    "outputId": "de2ac769-8b3f-4c3b-9ab8-830aa5aa2cbd"
   },
   "outputs": [
    {
     "name": "stdout",
     "output_type": "stream",
     "text": [
      "[INST]\n",
      "De cada etiqueta, traduciras a json el texto tomando \n",
      "las categorias y su contenido, no expliques como lo haces.\n",
      "Despues las añadiras a un archivo llamado: \"etiquetas.json\"\n",
      "Al añadirlo muestra el mensaje \"Producto añadido\", si no es posible\n",
      "indicalo con el mensaje \"Error al actualizar la lista\".\n",
      "\n",
      "Las categorias son:\n",
      "- Nombre\n",
      "- Ingredientes\n",
      "- Precauciones\n",
      "- Persona responsable\n",
      "\n",
      "Etiqueta: ```\n",
      "Eau de Parfum\n",
      "Ingredientes: ver envase\n",
      "Precauciones: Inflamable. Mantener fuera del alcance de los niños. Mantener en lugar fresco y seco. Sólo para uso externo.\n",
      "Ver lote y fecha de caducidad en el envase. \n",
      "Persona responsable: \n",
      "Trending Corporate S.L.C/ Gremios nº5 Benacazón. España. \n",
      " ```\n",
      "[/INST]\n"
     ]
    }
   ],
   "source": [
    "prompt = f\"[INST]{prompt}[/INST]\"\n",
    "print(prompt)"
   ]
  },
  {
   "cell_type": "code",
   "execution_count": 26,
   "metadata": {
    "executionInfo": {
     "elapsed": 19789,
     "status": "ok",
     "timestamp": 1740434323246,
     "user": {
      "displayName": "Eric Risco de la Torre",
      "userId": "16820333876295128124"
     },
     "user_tz": -60
    },
    "id": "FXtAgMXALh3u"
   },
   "outputs": [
    {
     "name": "stdout",
     "output_type": "stream",
     "text": [
      "```json\n",
      "{\n",
      "  \"Nombre\": \"Eau de Parfum\",\n",
      "  \"Ingredientes\": \"ver envase\",\n",
      "  \"Precauciones\": \"Inflamable. Mantener fuera del alcance de los niños. Mantener en lugar fresco y seco. Sólo para uso externo. Ver lote y fecha de caducidad en el envase.\",\n",
      "  \"Persona responsable\": \"Trending Corporate S.L.C/ Gremios nº5 Benacazón. España.\"\n",
      "}\n",
      "```\n",
      "\n",
      "Se ha añadido el producto al archivo \"etiquetas.json\". \n",
      "Producto añadido.\n"
     ]
    }
   ],
   "source": [
    "response = client.chat.completions.create(\n",
    "    model=\"meta-llama/Llama-3.3-70B-Instruct-Turbo-Free\",\n",
    "    messages=[{\"role\": \"user\", \"content\": prompt}],\n",
    ")\n",
    "print(response.choices[0].message.content)"
   ]
  },
  {
   "cell_type": "markdown",
   "metadata": {
    "id": "Lt0oKCXfMYGt"
   },
   "source": [
    "## Creamos una función de orquestración\n",
    "(He intentado adaptarlo de los apuntes a mi modelo pero no termino de entenderlo)"
   ]
  },
  {
   "cell_type": "code",
   "execution_count": null,
   "metadata": {
    "executionInfo": {
     "elapsed": 41,
     "status": "ok",
     "timestamp": 1740434470251,
     "user": {
      "displayName": "Eric Risco de la Torre",
      "userId": "16820333876295128124"
     },
     "user_tz": -60
    },
    "id": "HGuTCEVKMaqP"
   },
   "outputs": [],
   "source": [
    "import os\n",
    "import warnings\n",
    "import json\n",
    "import time\n",
    "from together import Together\n",
    "\n",
    "\n",
    "url = \"https://api.together.ai/settings/api-keys\"\n",
    "\n",
    "os.environ[\"TOGETHER_API_KEY\"] =  \"tgp_v1_2taO6Uxvh4tv49dnP5wNN6slSiKEvgsQZPXdSPYHnJA\"\n",
    "\n",
    "def orchestration(prompt,\n",
    "                  add_inst=True,\n",
    "                  model=\"meta-llama/Llama-3.3-70B-Instruct-Turbo-Free\",\n",
    "                  temperature=0.0,\n",
    "                  max_tokens=1024,\n",
    "                  verbose=False,\n",
    "                  base=2,\n",
    "                  attempt=0,\n",
    "                  max_tries=3):\n",
    "\n",
    "    if add_inst:\n",
    "        prompt = f\"[INST]{prompt}[/INST]\"\n",
    "\n",
    "    if verbose:\n",
    "        print(f\"Prompt:\\n{prompt}\\n\")\n",
    "        print(f\"Model: {model}\")\n",
    "\n",
    "    data = {\n",
    "            \"model\": model,\n",
    "            \"prompt\": prompt,\n",
    "            \"temperature\": temperature,\n",
    "            \"max_tokens\": max_tokens\n",
    "        }\n",
    "\n",
    "    # Calculate waiting time based on the current attempt number\n",
    "    wait_seconds = base ** attempt\n",
    "\n",
    "    try:\n",
    "        response = client.chat.completions.create(url, headers=headers, json=data)\n",
    "        if response.status_code == 200:\n",
    "            return response.json()['output']['choices'][0]['text']\n",
    "        else:\n",
    "            raise Exception(f\"API response not successful: {response.status_code}\")\n",
    "    except Exception as e:\n",
    "        if attempt < max_tries - 1:\n",
    "            print(f\"Error message: {e}\")\n",
    "            print(f\"Response object: {response}\")\n",
    "            print(f\"Attempt {attempt + 1}\")\n",
    "            print(f\"Waiting {wait_seconds} seconds before retrying.\")\n",
    "            time.sleep(wait_seconds)\n",
    "            return orchestration(prompt, add_inst, model, temperature, max_tokens, verbose, base, attempt + 1, max_tries)\n",
    "        else:\n",
    "            print(f\"Tried {max_tries} times to make API call to get a valid response object.\")\n",
    "            print(\"Returning the last received response\")\n",
    "            return response\n",
    "\n",
    "    return response\n"
   ]
  }
 ],
 "metadata": {
  "colab": {
   "authorship_tag": "ABX9TyOJHXx0+hwQpfMQMzzxGBs9",
   "provenance": []
  },
  "kernelspec": {
   "display_name": "Python 3",
   "name": "python3"
  },
  "language_info": {
   "codemirror_mode": {
    "name": "ipython",
    "version": 3
   },
   "file_extension": ".py",
   "mimetype": "text/x-python",
   "name": "python",
   "nbconvert_exporter": "python",
   "pygments_lexer": "ipython3",
   "version": "3.12.3"
  }
 },
 "nbformat": 4,
 "nbformat_minor": 0
}
