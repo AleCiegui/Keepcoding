{
 "cells": [
  {
   "cell_type": "markdown",
   "metadata": {},
   "source": [
    "# 1. Descarga y exploración del corpus\n",
    "\n",
    "**Paso 1: Cargar y Visualizar el Dataset en Google Colab**"
   ]
  },
  {
   "cell_type": "code",
   "execution_count": null,
   "metadata": {},
   "outputs": [],
   "source": [
    "from google.colab import drive\n",
    "drive.mount('/content/drive/')\n",
    "\n",
    "WORKING_PATH = '/content/drive/MyDrive/NLP'"
   ]
  },
  {
   "cell_type": "code",
   "execution_count": 1,
   "metadata": {},
   "outputs": [
    {
     "name": "stdout",
     "output_type": "stream",
     "text": [
      "📌 Primeras filas del dataset:\n"
     ]
    },
    {
     "data": {
      "text/html": [
       "<div>\n",
       "<style scoped>\n",
       "    .dataframe tbody tr th:only-of-type {\n",
       "        vertical-align: middle;\n",
       "    }\n",
       "\n",
       "    .dataframe tbody tr th {\n",
       "        vertical-align: top;\n",
       "    }\n",
       "\n",
       "    .dataframe thead th {\n",
       "        text-align: right;\n",
       "    }\n",
       "</style>\n",
       "<table border=\"1\" class=\"dataframe\">\n",
       "  <thead>\n",
       "    <tr style=\"text-align: right;\">\n",
       "      <th></th>\n",
       "      <th>reviewerID</th>\n",
       "      <th>asin</th>\n",
       "      <th>reviewerName</th>\n",
       "      <th>helpful</th>\n",
       "      <th>reviewText</th>\n",
       "      <th>overall</th>\n",
       "      <th>summary</th>\n",
       "      <th>unixReviewTime</th>\n",
       "      <th>reviewTime</th>\n",
       "    </tr>\n",
       "  </thead>\n",
       "  <tbody>\n",
       "    <tr>\n",
       "      <th>0</th>\n",
       "      <td>A2HD75EMZR8QLN</td>\n",
       "      <td>0700099867</td>\n",
       "      <td>123</td>\n",
       "      <td>[8, 12]</td>\n",
       "      <td>Installing the game was a struggle (because of...</td>\n",
       "      <td>1</td>\n",
       "      <td>Pay to unlock content? I don't think so.</td>\n",
       "      <td>1341792000</td>\n",
       "      <td>07 9, 2012</td>\n",
       "    </tr>\n",
       "    <tr>\n",
       "      <th>1</th>\n",
       "      <td>A3UR8NLLY1ZHCX</td>\n",
       "      <td>0700099867</td>\n",
       "      <td>Alejandro Henao \"Electronic Junky\"</td>\n",
       "      <td>[0, 0]</td>\n",
       "      <td>If you like rally cars get this game you will ...</td>\n",
       "      <td>4</td>\n",
       "      <td>Good rally game</td>\n",
       "      <td>1372550400</td>\n",
       "      <td>06 30, 2013</td>\n",
       "    </tr>\n",
       "    <tr>\n",
       "      <th>2</th>\n",
       "      <td>A1INA0F5CWW3J4</td>\n",
       "      <td>0700099867</td>\n",
       "      <td>Amazon Shopper \"Mr.Repsol\"</td>\n",
       "      <td>[0, 0]</td>\n",
       "      <td>1st shipment received a book instead of the ga...</td>\n",
       "      <td>1</td>\n",
       "      <td>Wrong key</td>\n",
       "      <td>1403913600</td>\n",
       "      <td>06 28, 2014</td>\n",
       "    </tr>\n",
       "    <tr>\n",
       "      <th>3</th>\n",
       "      <td>A1DLMTOTHQ4AST</td>\n",
       "      <td>0700099867</td>\n",
       "      <td>ampgreen</td>\n",
       "      <td>[7, 10]</td>\n",
       "      <td>I got this version instead of the PS3 version,...</td>\n",
       "      <td>3</td>\n",
       "      <td>awesome game, if it did not crash frequently !!</td>\n",
       "      <td>1315958400</td>\n",
       "      <td>09 14, 2011</td>\n",
       "    </tr>\n",
       "    <tr>\n",
       "      <th>4</th>\n",
       "      <td>A361M14PU2GUEG</td>\n",
       "      <td>0700099867</td>\n",
       "      <td>Angry Ryan \"Ryan A. Forrest\"</td>\n",
       "      <td>[2, 2]</td>\n",
       "      <td>I had Dirt 2 on Xbox 360 and it was an okay ga...</td>\n",
       "      <td>4</td>\n",
       "      <td>DIRT 3</td>\n",
       "      <td>1308009600</td>\n",
       "      <td>06 14, 2011</td>\n",
       "    </tr>\n",
       "  </tbody>\n",
       "</table>\n",
       "</div>"
      ],
      "text/plain": [
       "       reviewerID        asin                        reviewerName  helpful  \\\n",
       "0  A2HD75EMZR8QLN  0700099867                                 123  [8, 12]   \n",
       "1  A3UR8NLLY1ZHCX  0700099867  Alejandro Henao \"Electronic Junky\"   [0, 0]   \n",
       "2  A1INA0F5CWW3J4  0700099867          Amazon Shopper \"Mr.Repsol\"   [0, 0]   \n",
       "3  A1DLMTOTHQ4AST  0700099867                            ampgreen  [7, 10]   \n",
       "4  A361M14PU2GUEG  0700099867        Angry Ryan \"Ryan A. Forrest\"   [2, 2]   \n",
       "\n",
       "                                          reviewText  overall  \\\n",
       "0  Installing the game was a struggle (because of...        1   \n",
       "1  If you like rally cars get this game you will ...        4   \n",
       "2  1st shipment received a book instead of the ga...        1   \n",
       "3  I got this version instead of the PS3 version,...        3   \n",
       "4  I had Dirt 2 on Xbox 360 and it was an okay ga...        4   \n",
       "\n",
       "                                           summary  unixReviewTime  \\\n",
       "0         Pay to unlock content? I don't think so.      1341792000   \n",
       "1                                  Good rally game      1372550400   \n",
       "2                                        Wrong key      1403913600   \n",
       "3  awesome game, if it did not crash frequently !!      1315958400   \n",
       "4                                           DIRT 3      1308009600   \n",
       "\n",
       "    reviewTime  \n",
       "0   07 9, 2012  \n",
       "1  06 30, 2013  \n",
       "2  06 28, 2014  \n",
       "3  09 14, 2011  \n",
       "4  06 14, 2011  "
      ]
     },
     "execution_count": 1,
     "metadata": {},
     "output_type": "execute_result"
    }
   ],
   "source": [
    "import pandas as pd\n",
    "import os\n",
    "\n",
    "# Definir la ruta del archivo\n",
    "WORKING_PATH = \"./\"\n",
    "DATASET_PATH = os.path.join(WORKING_PATH, \"Video_Games_5.json\")\n",
    "\n",
    "# Cargar el dataset\n",
    "df = pd.read_json(DATASET_PATH, lines=True)\n",
    "\n",
    "# Mostrar las primeras filas del dataset\n",
    "print(\"📌 Primeras filas del dataset:\")\n",
    "df.head()\n"
   ]
  },
  {
   "cell_type": "markdown",
   "metadata": {},
   "source": [
    "**Paso 2: Cardinalidad del Vocabulario**"
   ]
  },
  {
   "cell_type": "code",
   "execution_count": 7,
   "metadata": {},
   "outputs": [
    {
     "name": "stderr",
     "output_type": "stream",
     "text": [
      "[nltk_data] Downloading package stopwords to C:\\Users\\Alejandro\n",
      "[nltk_data]     Catalan\\AppData\\Roaming\\nltk_data...\n",
      "[nltk_data]   Package stopwords is already up-to-date!\n"
     ]
    },
    {
     "name": "stdout",
     "output_type": "stream",
     "text": [
      "                                          reviewText  \\\n",
      "0  Installing the game was a struggle (because of...   \n",
      "1  If you like rally cars get this game you will ...   \n",
      "2  1st shipment received a book instead of the ga...   \n",
      "3  I got this version instead of the PS3 version,...   \n",
      "4  I had Dirt 2 on Xbox 360 and it was an okay ga...   \n",
      "\n",
      "                                        tokens_clean  \n",
      "0  [installing, game, struggle, games, windows, l...  \n",
      "1  [like, rally, cars, get, game, funit, oriented...  \n",
      "2  [1st, shipment, received, book, instead, game2...  \n",
      "3  [got, version, instead, ps3, version, turned, ...  \n",
      "4  [dirt, 2, xbox, 360, okay, game, started, play...  \n",
      "\n",
      "Número de palabras únicas en el vocabulario: 594641\n"
     ]
    }
   ],
   "source": [
    "import re\n",
    "from collections import Counter\n",
    "import nltk\n",
    "from nltk.corpus import stopwords\n",
    "import re\n",
    "\n",
    "# Descargar stopwords de NLTK (si no están descargadas)\n",
    "nltk.download(\"stopwords\")\n",
    "stop_words = set(stopwords.words(\"english\"))\n",
    "\n",
    "# Función para tokenizar y limpieza del texto\n",
    "def clean_text(text):\n",
    "    text = text.lower()  # Convertir a minúsculas\n",
    "    text = re.sub(r\"[^\\w\\s]\", \"\", text)  # Eliminar puntuación\n",
    "    words = text.split()  # Tokenizar dividiendo por espacios\n",
    "    words = [word for word in words if word not in stop_words]  # Eliminar stopwords\n",
    "    return words\n",
    "\n",
    "# Concatenar todas las reseñas en un solo texto\n",
    "all_reviews = \" \".join(df[\"reviewText\"].dropna())\n",
    "\n",
    "# Tokenizar y contar palabras únicas\n",
    "words = clean_text(all_reviews)\n",
    "vocab_size = len(set(words))  # Cardinalidad del vocabulario\n",
    "\n",
    "# Aplicar la limpieza al texto y guardar en un nuevo DataFrame\n",
    "df[\"tokens_clean\"] = df[\"reviewText\"].dropna().apply(clean_text)\n",
    "\n",
    "# Mostrar las primeras filas después del preprocesamiento\n",
    "print(df[[\"reviewText\", \"tokens_clean\"]].head())\n",
    "\n",
    "print(f\"\\nNúmero de palabras únicas en el vocabulario: {vocab_size}\")\n"
   ]
  },
  {
   "cell_type": "markdown",
   "metadata": {},
   "source": [
    "**Paso 3: Distribución de Reviews por Número de Estrellas**"
   ]
  },
  {
   "cell_type": "code",
   "execution_count": 8,
   "metadata": {},
   "outputs": [
    {
     "name": "stdout",
     "output_type": "stream",
     "text": [
      "📌 Distribución de reviews por número de estrellas:\n",
      "overall\n",
      "1     14853\n",
      "2     13663\n",
      "3     28275\n",
      "4     54804\n",
      "5    120185\n",
      "Name: count, dtype: int64\n"
     ]
    },
    {
     "data": {
      "image/png": "[encoded data removed]",
      "text/plain": [
       "<Figure size 800x500 with 1 Axes>"
      ]
     },
     "metadata": {},
     "output_type": "display_data"
    }
   ],
   "source": [
    "import matplotlib.pyplot as plt\n",
    "\n",
    "# Contar cuántas reviews hay por cada calificación de estrellas\n",
    "star_distribution = df[\"overall\"].value_counts().sort_index()\n",
    "\n",
    "# Mostrar distribución en tabla\n",
    "print(\"📌 Distribución de reviews por número de estrellas:\")\n",
    "print(star_distribution)\n",
    "\n",
    "# Gráfico de barras\n",
    "plt.figure(figsize=(8,5))\n",
    "star_distribution.plot(kind=\"bar\", color=\"royalblue\", alpha=0.7)\n",
    "plt.xlabel(\"Número de Estrellas\")\n",
    "plt.ylabel(\"Cantidad de Reviews\")\n",
    "plt.title(\"Distribución de Reviews por Número de Estrellas\")\n",
    "plt.grid(axis=\"y\", linestyle=\"--\", alpha=0.7)\n",
    "plt.show()\n"
   ]
  },
  {
   "cell_type": "markdown",
   "metadata": {},
   "source": [
    "**Paso 4: Número de Reviews Positivas y Negativas**\n",
    "\n",
    "*   Reviews Positivas: 4 o 5 estrellas\n",
    "*   Reviews Negativas: 1, 2 o 3 estrellas\n"
   ]
  },
  {
   "cell_type": "code",
   "execution_count": 9,
   "metadata": {},
   "outputs": [
    {
     "name": "stdout",
     "output_type": "stream",
     "text": [
      "📌 Número de reviews por sentimiento (ajustado):\n",
      "sentiment\n",
      "positive    174989\n",
      "negative     56791\n",
      "Name: count, dtype: int64\n"
     ]
    },
    {
     "data": {
      "image/png": "[encoded data removed]",
      "text/plain": [
       "<Figure size 600x400 with 1 Axes>"
      ]
     },
     "metadata": {},
     "output_type": "display_data"
    }
   ],
   "source": [
    "# Reclasificar las reviews: ahora 3 estrellas se consideran negativas\n",
    "df[\"sentiment\"] = df[\"overall\"].apply(lambda x: \"positive\" if x >= 4 else \"negative\")\n",
    "\n",
    "# Contar cuántas hay de cada tipo\n",
    "sentiment_counts = df[\"sentiment\"].value_counts()\n",
    "\n",
    "# Mostrar resultados\n",
    "print(\"📌 Número de reviews por sentimiento (ajustado):\")\n",
    "print(sentiment_counts)\n",
    "\n",
    "# Gráfico de barras\n",
    "import matplotlib.pyplot as plt\n",
    "\n",
    "plt.figure(figsize=(6,4))\n",
    "sentiment_counts.plot(kind=\"bar\", color=[\"green\", \"red\"], alpha=0.7)\n",
    "plt.xlabel(\"Sentimiento\")\n",
    "plt.ylabel(\"Cantidad de Reviews\")\n",
    "plt.title(\"Distribución de Sentimientos en las Reviews (Ajustado)\")\n",
    "plt.grid(axis=\"y\", linestyle=\"--\", alpha=0.7)\n",
    "plt.show()"
   ]
  },
  {
   "cell_type": "markdown",
   "metadata": {},
   "source": [
    "**Paso 5: N-grams Más Frecuentes**"
   ]
  },
  {
   "cell_type": "code",
   "execution_count": 12,
   "metadata": {},
   "outputs": [
    {
     "name": "stdout",
     "output_type": "stream",
     "text": [
      "📌 Top 10 Bigramas más frecuentes (NLTK):\n",
      "game play: 17263\n",
      "great game: 15330\n",
      "play game: 13076\n",
      "playing game: 10669\n",
      "single player: 10362\n",
      "one best: 10105\n",
      "fun game: 10063\n",
      "xbox 360: 10014\n",
      "feel like: 9929\n",
      "good game: 9894\n",
      "\n",
      "📌 Top 10 Trigramas más frecuentes (NLTK):\n",
      "one best games: 2535\n",
      "grand theft auto: 2374\n",
      "ive ever played: 2053\n",
      "metal gear solid: 2045\n",
      "super mario bros: 1990\n",
      "first person shooter: 1890\n",
      "dont get wrong: 1634\n",
      "single player campaign: 1527\n",
      "highly recommend game: 1482\n",
      "game ive played: 1172\n"
     ]
    }
   ],
   "source": [
    "import nltk\n",
    "from nltk import ngrams\n",
    "from nltk.probability import FreqDist\n",
    "\n",
    "# Descargar recursos necesarios de NLTK (solo la primera vez)\n",
    "\"\"\"nltk.download(\"punkt\")\"\"\"\n",
    "\n",
    "# Tokenizar todas las reviews\n",
    "words_nltk = [word for word in words]\n",
    "\n",
    "# Función para obtener los N-grams más comunes\n",
    "def get_top_ngrams_nltk(words, n=2, top_n=10):\n",
    "    ngrams_list = list(ngrams(words, n))  # Crear bigramas o trigramas\n",
    "    freq_dist = FreqDist(ngrams_list)  # Calcular frecuencias\n",
    "    return freq_dist.most_common(top_n)\n",
    "\n",
    "# Obtener los 10 bigramas y trigramas más frecuentes con NLTK\n",
    "top_bigrams_nltk = get_top_ngrams_nltk(words_nltk, n=2, top_n=10)\n",
    "top_trigrams_nltk = get_top_ngrams_nltk(words_nltk, n=3, top_n=10)\n",
    "\n",
    "# Mostrar resultados\n",
    "print(\"📌 Top 10 Bigramas más frecuentes (NLTK):\")\n",
    "for bigram, count in top_bigrams_nltk:\n",
    "    print(f\"{' '.join(bigram)}: {count}\")\n",
    "\n",
    "print(\"\\n📌 Top 10 Trigramas más frecuentes (NLTK):\")\n",
    "for trigram, count in top_trigrams_nltk:\n",
    "    print(f\"{' '.join(trigram)}: {count}\")\n"
   ]
  },
  {
   "cell_type": "markdown",
   "metadata": {},
   "source": [
    "**Paso 6: Generar una Nube de Palabras**"
   ]
  },
  {
   "cell_type": "code",
   "execution_count": 19,
   "metadata": {},
   "outputs": [
    {
     "ename": "ModuleNotFoundError",
     "evalue": "No module named 'wordcloud'",
     "output_type": "error",
     "traceback": [
      "\u001b[1;31m---------------------------------------------------------------------------\u001b[0m",
      "\u001b[1;31mModuleNotFoundError\u001b[0m                       Traceback (most recent call last)",
      "Cell \u001b[1;32mIn[19], line 1\u001b[0m\n\u001b[1;32m----> 1\u001b[0m \u001b[38;5;28;01mfrom\u001b[39;00m \u001b[38;5;21;01mwordcloud\u001b[39;00m \u001b[38;5;28;01mimport\u001b[39;00m WordCloud\n\u001b[0;32m      2\u001b[0m \u001b[38;5;28;01mimport\u001b[39;00m \u001b[38;5;21;01mmatplotlib\u001b[39;00m\u001b[38;5;21;01m.\u001b[39;00m\u001b[38;5;21;01mpyplot\u001b[39;00m \u001b[38;5;28;01mas\u001b[39;00m \u001b[38;5;21;01mplt\u001b[39;00m\n\u001b[0;32m      4\u001b[0m \u001b[38;5;28;01mdef\u001b[39;00m \u001b[38;5;21mplot_word_cloud\u001b[39m(text):\n",
      "\u001b[1;31mModuleNotFoundError\u001b[0m: No module named 'wordcloud'"
     ]
    }
   ],
   "source": [
    "from wordcloud import WordCloud\n",
    "import matplotlib.pyplot as plt\n",
    "\n",
    "def plot_word_cloud(text):\n",
    "    wordcloud = WordCloud(max_font_size=50, max_words=80, background_color=\"white\").generate(all_reviews)\n",
    "    plt.figure(figsize=(12,6))\n",
    "    plt.imshow(wordcloud, interpolation='bilinear')\n",
    "    plt.axis('off')\n",
    "    plt.show()\n",
    "\n",
    "plot_word_cloud(words)"
   ]
  },
  {
   "cell_type": "markdown",
   "metadata": {},
   "source": [
    "**Paso 7: Visualización en 2D de Word Embeddings con Word2Vec**"
   ]
  },
  {
   "cell_type": "code",
   "execution_count": null,
   "metadata": {},
   "outputs": [
    {
     "ename": "ModuleNotFoundError",
     "evalue": "No module named 'gensim'",
     "output_type": "error",
     "traceback": [
      "\u001b[1;31m---------------------------------------------------------------------------\u001b[0m",
      "\u001b[1;31mModuleNotFoundError\u001b[0m                       Traceback (most recent call last)",
      "Cell \u001b[1;32mIn[21], line 1\u001b[0m\n\u001b[1;32m----> 1\u001b[0m \u001b[38;5;28;01mimport\u001b[39;00m \u001b[38;5;21;01mgensim\u001b[39;00m\n\u001b[0;32m      2\u001b[0m \u001b[38;5;28;01mfrom\u001b[39;00m \u001b[38;5;21;01mgensim\u001b[39;00m\u001b[38;5;21;01m.\u001b[39;00m\u001b[38;5;21;01mmodels\u001b[39;00m \u001b[38;5;28;01mimport\u001b[39;00m Word2Vec\n\u001b[0;32m      3\u001b[0m \u001b[38;5;28;01mfrom\u001b[39;00m \u001b[38;5;21;01msklearn\u001b[39;00m\u001b[38;5;21;01m.\u001b[39;00m\u001b[38;5;21;01mdecomposition\u001b[39;00m \u001b[38;5;28;01mimport\u001b[39;00m PCA\n",
      "\u001b[1;31mModuleNotFoundError\u001b[0m: No module named 'gensim'"
     ]
    }
   ],
   "source": [
    "import gensim\n",
    "from gensim.models import Word2Vec\n",
    "from sklearn.decomposition import PCA\n",
    "import numpy as np\n",
    "import matplotlib.pyplot as plt\n",
    "\n",
    "# Entrenar Word2Vec con los tokens normalizados\n",
    "word2vec_model = Word2Vec(sentences=df[\"tokens_clean\"], vector_size=100, window=5, min_count=5, workers=4)\n",
    "\n",
    "# Seleccionar palabras clave manualmente\n",
    "selected_words = [\"game\", \"graphics\", \"story\", \"multiplayer\"]\n",
    "\n",
    "# Obtener palabras más similares para cada una\n",
    "similar_words = {}\n",
    "for word in selected_words:\n",
    "    if word in word2vec_model.wv:\n",
    "        similar_words[word] = [w for w, _ in word2vec_model.wv.most_similar(word, topn=10)]\n",
    "\n",
    "# Lista de palabras a visualizar (seleccionadas + similares)\n",
    "words_to_plot = list(set(selected_words + sum(similar_words.values(), [])))\n",
    "\n",
    "# Obtener vectores de palabras\n",
    "word_vectors = np.array([word2vec_model.wv[word] for word in words_to_plot])\n",
    "\n",
    "# Reducir dimensión con PCA a 2D\n",
    "pca = PCA(n_components=2)\n",
    "word_vectors_2d = pca.fit_transform(word_vectors)\n",
    "\n",
    "# Graficar embeddings\n",
    "plt.figure(figsize=(12, 8))\n",
    "plt.scatter(word_vectors_2d[:, 0], word_vectors_2d[:, 1], alpha=0.5)\n",
    "\n",
    "# Etiquetar palabras en la gráfica\n",
    "for i, word in enumerate(words_to_plot):\n",
    "    plt.annotate(word, xy=(word_vectors_2d[i, 0], word_vectors_2d[i, 1]), fontsize=10, alpha=0.75)\n",
    "\n",
    "plt.title(\"📌 Palabras Clave y sus 10 Más Similares en Word2Vec (Texto Normalizado)\")\n",
    "plt.xlabel(\"PCA 1\")\n",
    "plt.ylabel(\"PCA 2\")\n",
    "plt.grid()\n",
    "plt.show()\n",
    "\n",
    "# Mostrar palabras y sus más similares en texto\n",
    "for word, similar in similar_words.items():\n",
    "    print(f\"\\n📌 Palabras más similares a '{word}':\")\n",
    "    print(\", \".join(similar))\n"
   ]
  },
  {
   "cell_type": "code",
   "execution_count": 22,
   "metadata": {},
   "outputs": [
    {
     "ename": "NameError",
     "evalue": "name 'word_vectors' is not defined",
     "output_type": "error",
     "traceback": [
      "\u001b[1;31m---------------------------------------------------------------------------\u001b[0m",
      "\u001b[1;31mNameError\u001b[0m                                 Traceback (most recent call last)",
      "Cell \u001b[1;32mIn[22], line 6\u001b[0m\n\u001b[0;32m      4\u001b[0m \u001b[38;5;66;03m# Reducir dimensión con t-SNE\u001b[39;00m\n\u001b[0;32m      5\u001b[0m tsne \u001b[38;5;241m=\u001b[39m TSNE(n_components\u001b[38;5;241m=\u001b[39m\u001b[38;5;241m2\u001b[39m, random_state\u001b[38;5;241m=\u001b[39m\u001b[38;5;241m42\u001b[39m, perplexity\u001b[38;5;241m=\u001b[39m\u001b[38;5;241m30\u001b[39m, n_iter\u001b[38;5;241m=\u001b[39m\u001b[38;5;241m1000\u001b[39m)\n\u001b[1;32m----> 6\u001b[0m word_vectors_2d_tsne \u001b[38;5;241m=\u001b[39m tsne\u001b[38;5;241m.\u001b[39mfit_transform(\u001b[43mword_vectors\u001b[49m)\n\u001b[0;32m      8\u001b[0m \u001b[38;5;66;03m# Colorear cada grupo basado en la palabra seleccionada\u001b[39;00m\n\u001b[0;32m      9\u001b[0m colors \u001b[38;5;241m=\u001b[39m cm\u001b[38;5;241m.\u001b[39mget_cmap(\u001b[38;5;124m\"\u001b[39m\u001b[38;5;124mtab10\u001b[39m\u001b[38;5;124m\"\u001b[39m, \u001b[38;5;28mlen\u001b[39m(selected_words))  \u001b[38;5;66;03m# Paleta de colores\u001b[39;00m\n",
      "\u001b[1;31mNameError\u001b[0m: name 'word_vectors' is not defined"
     ]
    }
   ],
   "source": [
    "from sklearn.manifold import TSNE\n",
    "import matplotlib.cm as cm\n",
    "\n",
    "# Reducir dimensión con t-SNE\n",
    "tsne = TSNE(n_components=2, random_state=42, perplexity=30, n_iter=1000)\n",
    "word_vectors_2d_tsne = tsne.fit_transform(word_vectors)\n",
    "\n",
    "# Colorear cada grupo basado en la palabra seleccionada\n",
    "colors = cm.get_cmap(\"tab10\", len(selected_words))  # Paleta de colores\n",
    "group_colors = {word: i for i, word in enumerate(selected_words)}  # Asignar colores\n",
    "\n",
    "# Graficar\n",
    "plt.figure(figsize=(12, 8))\n",
    "for i, word in enumerate(words_to_plot):\n",
    "    group_idx = next((group_colors[w] for w in selected_words if w in similar_words and word in similar_words[w]), None)\n",
    "    color = colors(group_idx) if group_idx is not None else \"gray\"\n",
    "    plt.scatter(word_vectors_2d_tsne[i, 0], word_vectors_2d_tsne[i, 1], color=color, alpha=0.7)\n",
    "    plt.annotate(word, xy=(word_vectors_2d_tsne[i, 0], word_vectors_2d_tsne[i, 1]), fontsize=10, alpha=0.75)\n",
    "\n",
    "plt.title(\"📌 Palabras Clave y sus 10 Más Similares (t-SNE)\")\n",
    "plt.xlabel(\"Dimensión 1 (t-SNE)\")\n",
    "plt.ylabel(\"Dimensión 2 (t-SNE)\")\n",
    "plt.grid()\n",
    "plt.show()"
   ]
  },
  {
   "cell_type": "markdown",
   "metadata": {},
   "source": [
    "**Paso 8: Conclusiones del Análisis Exploratorio**\n",
    "\n",
    "🔹 Conclusiones del Análisis Exploratorio\n",
    "\n",
    "✔️ Cardinalidad del Vocabulario:\n",
    "\n",
    "El dataset tiene 594,788 palabras únicas, indicando un vocabulario amplio y variado.\n",
    "\n",
    "✔️ Distribución de Reviews por Estrellas:\n",
    "\n",
    "Más del 50% de las reviews tienen 5 estrellas, lo que muestra una tendencia hacia evaluaciones positivas.\n",
    "Las reviews con 1 o 2 estrellas son minoría, lo que sugiere menos insatisfacción general.\n",
    "\n",
    "✔️ Clasificación de Sentimientos:\n",
    "\n",
    "174,989 reviews (75.5%) son positivas (4 o 5 estrellas).\n",
    "56,791 reviews (24.5%) son negativas (1, 2 o 3 estrellas).\n",
    "\n",
    "✔️ N-grams Más Frecuentes:\n",
    "\n",
    "Se identificaron expresiones clave en las opiniones, como \"great game\", \"fun game\", \"single player campaign\", lo que muestra qué aspectos valoran más los usuarios.\n",
    "\n",
    "✔️ Nube de Palabras:\n",
    "\n",
    "Los términos más usados reflejan aspectos clave del gaming, como \"game\", \"play\", \"fun\", \"graphics\", \"story\", indicando que los usuarios destacan experiencias de juego.\n",
    "\n",
    "✔️ Visualización de Word Embeddings:\n",
    "\n",
    "Se observó una clara agrupación de palabras con significados similares, confirmando que el modelo Word2Vec está capturando relaciones semánticas entre términos."
   ]
  }
 ],
 "metadata": {
  "kernelspec": {
   "display_name": "Python 3",
   "language": "python",
   "name": "python3"
  },
  "language_info": {
   "codemirror_mode": {
    "name": "ipython",
    "version": 3
   },
   "file_extension": ".py",
   "mimetype": "text/x-python",
   "name": "python",
   "nbconvert_exporter": "python",
   "pygments_lexer": "ipython3",
   "version": "3.12.3"
  }
 },
 "nbformat": 4,
 "nbformat_minor": 2
}
