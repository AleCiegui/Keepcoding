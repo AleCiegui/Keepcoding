{
 "cells": [
  {
   "cell_type": "markdown",
   "metadata": {},
   "source": [
    "# Práctica Final: Clasificación con Scikit-learn y MLflow"
   ]
  },
  {
   "cell_type": "code",
   "execution_count": 6,
   "metadata": {},
   "outputs": [],
   "source": [
    "#  Exploración de Datos: Analiza el conjunto de datos proporcionado para comprender su estructura y contenido.\n",
    "import pandas as pd\n",
    "import numpy as np\n",
    "import mlflow\n",
    "import mlflow.sklearn\n",
    "\n",
    "from sklearn.model_selection import train_test_split\n",
    "from sklearn.ensemble import RandomForestClassifier\n",
    "\n",
    "from sklearn.pipeline import Pipeline\n",
    "from sklearn.preprocessing import StandardScaler\n",
    "\n",
    "from sklearn.metrics import accuracy_score, classification_report"
   ]
  },
  {
   "cell_type": "code",
   "execution_count": 9,
   "metadata": {},
   "outputs": [
    {
     "name": "stdout",
     "output_type": "stream",
     "text": [
      "\n",
      "Distribución de clases:\n",
      " target\n",
      "1    71\n",
      "0    59\n",
      "2    48\n",
      "Name: count, dtype: int64\n"
     ]
    }
   ],
   "source": [
    "from sklearn.datasets import load_wine\n",
    "\n",
    "# Cargar dataset\n",
    "wine = load_wine()\n",
    "\n",
    "# Convertir a DataFrame\n",
    "df = pd.DataFrame(wine[\"data\"], columns=wine[\"feature_names\"])\n",
    "df[\"target\"] = wine[\"target\"]\n",
    "\n",
    "# Ver distribución de las clases\n",
    "print(\"\\nDistribución de clases:\\n\", df[\"target\"].value_counts())\n"
   ]
  },
  {
   "cell_type": "code",
   "execution_count": 10,
   "metadata": {},
   "outputs": [
    {
     "data": {
      "text/html": [
       "<div>\n",
       "<style scoped>\n",
       "    .dataframe tbody tr th:only-of-type {\n",
       "        vertical-align: middle;\n",
       "    }\n",
       "\n",
       "    .dataframe tbody tr th {\n",
       "        vertical-align: top;\n",
       "    }\n",
       "\n",
       "    .dataframe thead th {\n",
       "        text-align: right;\n",
       "    }\n",
       "</style>\n",
       "<table border=\"1\" class=\"dataframe\">\n",
       "  <thead>\n",
       "    <tr style=\"text-align: right;\">\n",
       "      <th></th>\n",
       "      <th>alcohol</th>\n",
       "      <th>malic_acid</th>\n",
       "      <th>ash</th>\n",
       "      <th>alcalinity_of_ash</th>\n",
       "      <th>magnesium</th>\n",
       "      <th>total_phenols</th>\n",
       "      <th>flavanoids</th>\n",
       "      <th>nonflavanoid_phenols</th>\n",
       "      <th>proanthocyanins</th>\n",
       "      <th>color_intensity</th>\n",
       "      <th>hue</th>\n",
       "      <th>od280/od315_of_diluted_wines</th>\n",
       "      <th>proline</th>\n",
       "      <th>target</th>\n",
       "    </tr>\n",
       "  </thead>\n",
       "  <tbody>\n",
       "    <tr>\n",
       "      <th>0</th>\n",
       "      <td>14.23</td>\n",
       "      <td>1.71</td>\n",
       "      <td>2.43</td>\n",
       "      <td>15.6</td>\n",
       "      <td>127.0</td>\n",
       "      <td>2.80</td>\n",
       "      <td>3.06</td>\n",
       "      <td>0.28</td>\n",
       "      <td>2.29</td>\n",
       "      <td>5.64</td>\n",
       "      <td>1.04</td>\n",
       "      <td>3.92</td>\n",
       "      <td>1065.0</td>\n",
       "      <td>0</td>\n",
       "    </tr>\n",
       "    <tr>\n",
       "      <th>1</th>\n",
       "      <td>13.20</td>\n",
       "      <td>1.78</td>\n",
       "      <td>2.14</td>\n",
       "      <td>11.2</td>\n",
       "      <td>100.0</td>\n",
       "      <td>2.65</td>\n",
       "      <td>2.76</td>\n",
       "      <td>0.26</td>\n",
       "      <td>1.28</td>\n",
       "      <td>4.38</td>\n",
       "      <td>1.05</td>\n",
       "      <td>3.40</td>\n",
       "      <td>1050.0</td>\n",
       "      <td>0</td>\n",
       "    </tr>\n",
       "    <tr>\n",
       "      <th>2</th>\n",
       "      <td>13.16</td>\n",
       "      <td>2.36</td>\n",
       "      <td>2.67</td>\n",
       "      <td>18.6</td>\n",
       "      <td>101.0</td>\n",
       "      <td>2.80</td>\n",
       "      <td>3.24</td>\n",
       "      <td>0.30</td>\n",
       "      <td>2.81</td>\n",
       "      <td>5.68</td>\n",
       "      <td>1.03</td>\n",
       "      <td>3.17</td>\n",
       "      <td>1185.0</td>\n",
       "      <td>0</td>\n",
       "    </tr>\n",
       "    <tr>\n",
       "      <th>3</th>\n",
       "      <td>14.37</td>\n",
       "      <td>1.95</td>\n",
       "      <td>2.50</td>\n",
       "      <td>16.8</td>\n",
       "      <td>113.0</td>\n",
       "      <td>3.85</td>\n",
       "      <td>3.49</td>\n",
       "      <td>0.24</td>\n",
       "      <td>2.18</td>\n",
       "      <td>7.80</td>\n",
       "      <td>0.86</td>\n",
       "      <td>3.45</td>\n",
       "      <td>1480.0</td>\n",
       "      <td>0</td>\n",
       "    </tr>\n",
       "    <tr>\n",
       "      <th>4</th>\n",
       "      <td>13.24</td>\n",
       "      <td>2.59</td>\n",
       "      <td>2.87</td>\n",
       "      <td>21.0</td>\n",
       "      <td>118.0</td>\n",
       "      <td>2.80</td>\n",
       "      <td>2.69</td>\n",
       "      <td>0.39</td>\n",
       "      <td>1.82</td>\n",
       "      <td>4.32</td>\n",
       "      <td>1.04</td>\n",
       "      <td>2.93</td>\n",
       "      <td>735.0</td>\n",
       "      <td>0</td>\n",
       "    </tr>\n",
       "  </tbody>\n",
       "</table>\n",
       "</div>"
      ],
      "text/plain": [
       "   alcohol  malic_acid   ash  ...  od280/od315_of_diluted_wines  proline  target\n",
       "0    14.23        1.71  2.43  ...                          3.92   1065.0       0\n",
       "1    13.20        1.78  2.14  ...                          3.40   1050.0       0\n",
       "2    13.16        2.36  2.67  ...                          3.17   1185.0       0\n",
       "3    14.37        1.95  2.50  ...                          3.45   1480.0       0\n",
       "4    13.24        2.59  2.87  ...                          2.93    735.0       0\n",
       "\n",
       "[5 rows x 14 columns]"
      ]
     },
     "execution_count": 10,
     "metadata": {},
     "output_type": "execute_result"
    }
   ],
   "source": [
    "df.head()"
   ]
  },
  {
   "cell_type": "code",
   "execution_count": 22,
   "metadata": {},
   "outputs": [],
   "source": [
    "# Dividir en Train/Test\n",
    "x_train, x_test, y_train, y_test = train_test_split(df.drop(columns=\"target\"), df[\"target\"], test_size=0.2, random_state=42, stratify=df[\"target\"])"
   ]
  },
  {
   "cell_type": "code",
   "execution_count": 31,
   "metadata": {},
   "outputs": [],
   "source": [
    "# Entrenar un modelo Random Forest\n",
    "clf = RandomForestClassifier(n_estimators=4, \n",
    "                             min_samples_leaf=2, \n",
    "                             class_weight=\"balanced\", \n",
    "                             random_state=42)\n",
    "\n",
    "\n",
    "preprocessor = Pipeline(steps=[(\"scaler\", StandardScaler())])\n",
    "\n",
    "model = Pipeline(steps=[(\"preprocessor\", preprocessor), (\"RandomForestClassifier\", clf)])"
   ]
  },
  {
   "cell_type": "code",
   "execution_count": 32,
   "metadata": {},
   "outputs": [
    {
     "name": "stdout",
     "output_type": "stream",
     "text": [
      "\n",
      "Accuracy: 1.0\n",
      "\n",
      "Reporte de Clasificación:\n",
      "               precision    recall  f1-score   support\n",
      "\n",
      "           0       1.00      1.00      1.00        12\n",
      "           1       1.00      1.00      1.00        14\n",
      "           2       1.00      1.00      1.00        10\n",
      "\n",
      "    accuracy                           1.00        36\n",
      "   macro avg       1.00      1.00      1.00        36\n",
      "weighted avg       1.00      1.00      1.00        36\n",
      "\n"
     ]
    }
   ],
   "source": [
    "model.fit(x_train, y_train)\n",
    "\n",
    "# Predicciones\n",
    "y_pred = model.predict(x_test)\n",
    "\n",
    "# Evaluar el modelo\n",
    "print(\"\\nAccuracy:\", accuracy_score(y_test, y_pred))\n",
    "print(\"\\nReporte de Clasificación:\\n\", classification_report(y_test, y_pred))"
   ]
  },
  {
   "cell_type": "code",
   "execution_count": 35,
   "metadata": {},
   "outputs": [
    {
     "name": "stdout",
     "output_type": "stream",
     "text": [
      "0.971830985915493\n",
      "1.0\n"
     ]
    }
   ],
   "source": [
    "accuracy_train = model.score(x_train, y_train)\n",
    "accuracy_test = model.score(x_test, y_test)\n",
    "print(accuracy_train)\n",
    "print(accuracy_test)"
   ]
  },
  {
   "cell_type": "markdown",
   "metadata": {},
   "source": [
    "# Evaluación del Modelo y Obtención de Parámetros"
   ]
  },
  {
   "cell_type": "code",
   "execution_count": 40,
   "metadata": {},
   "outputs": [
    {
     "name": "stderr",
     "output_type": "stream",
     "text": [
      "2025/02/21 12:10:52 INFO mlflow.tracking.fluent: Experiment with name 'Wine Classifier with Acuracy BD14' does not exist. Creating a new experiment.\n",
      "2025/02/21 12:10:55 WARNING mlflow.models.model: Model logged without a signature and input example. Please set `input_example` parameter when logging the model to auto infer the model signature.\n"
     ]
    }
   ],
   "source": [
    "import mlflow\n",
    "mlflow.set_experiment('Wine Classifier with Acuracy BD14')\n",
    "with mlflow.start_run(run_name = 'First training with random state 2'): \n",
    "    mlflow.log_metric('accuracy_train', accuracy_train)\n",
    "    mlflow.log_param('random_state', 20)\n",
    "    mlflow.log_metric('accuracy_test', '0.1')\n",
    "    mlflow.sklearn.log_model(model, 'clf')"
   ]
  },
  {
   "cell_type": "code",
   "execution_count": 41,
   "metadata": {},
   "outputs": [],
   "source": [
    "import pandas as pd\n",
    "import numpy as np\n",
    "import mlflow\n",
    "import time\n",
    "import mlflow.sklearn\n",
    "import subprocess\n",
    "from sklearn.model_selection import train_test_split\n",
    "from sklearn.ensemble import RandomForestClassifier\n",
    "\n",
    "from sklearn.pipeline import Pipeline\n",
    "from sklearn.preprocessing import StandardScaler\n",
    "from sklearn.metrics import accuracy_score, classification_report\n",
    "from sklearn.datasets import load_wine\n",
    "\n",
    "def load_dataset():\n",
    "  wine = load_wine()\n",
    "  df = pd.DataFrame(wine['data'], columns=wine['feature_names'])\n",
    "  df['target'] = wine['target']\n",
    "  return df\n",
    "\n",
    "def data_treatment(df):\n",
    "  train, test = train_test_split(df, test_size=0.2)\n",
    "  test_target = test['target']\n",
    "  test[['target']].to_csv('test-target.csv', index=False)\n",
    "  del test['target']\n",
    "  test.to_csv('test.csv', index=False)\n",
    "\n",
    "  x_train, x_test, y_train, y_test = train_test_split(df.drop(columns=\"target\"), df[\"target\"],\n",
    "                                                      test_size=0.2,\n",
    "                                                      random_state=42,\n",
    "                                                      stratify=df[\"target\"])\n",
    "  return x_train, x_test, y_train, y_test\n",
    "\n",
    "def mlflow_tracking(x_train, x_test, y_train, y_test):\n",
    "  n_stimators = [2,10,20,30,50,80,100,130]\n",
    "\n",
    "  mlflow.set_experiment('Pruebas desde Script')\n",
    "  for i in n_stimators:\n",
    "    with mlflow.start_run() as run:\n",
    "      clf = RandomForestClassifier(n_estimators=i,\n",
    "                                  min_samples_leaf=2,\n",
    "                                  class_weight='balanced',\n",
    "                                  random_state=123)\n",
    "\n",
    "      preprocessor = Pipeline(steps=[('scaler', StandardScaler())])\n",
    "\n",
    "      model = Pipeline(steps=[('preprocessor', preprocessor),\n",
    "                                ('RandomForestClassifier', clf)])\n",
    "      model.fit(x_train, y_train)\n",
    "      accuracy_train = model.score(x_train, y_train)\n",
    "      model.score(x_test, y_test)\n",
    "\n",
    "      mlflow.log_metric('accuraty_train', accuracy_train)\n",
    "      mlflow.log_param('n_stimators', i)\n",
    "      mlflow.sklearn.log_model(model, 'clf-modellll')\n",
    "  print(\"Se ha acabado de entrenar el modelo correctamente! \\n\")"
   ]
  },
  {
   "cell_type": "code",
   "execution_count": 39,
   "metadata": {},
   "outputs": [],
   "source": [
    "def main():\n",
    "    print(\"Ejecutemos el main.\")\n",
    "    df = load_dataset()\n",
    "    x_train, x_test, y_train, y_test = data_treatment(df)\n",
    "    mlflow_tracking( x_train, x_test, y_train, y_test)"
   ]
  },
  {
   "cell_type": "code",
   "execution_count": 45,
   "metadata": {},
   "outputs": [
    {
     "data": {
      "text/plain": [
       "<function __main__.main()>"
      ]
     },
     "execution_count": 45,
     "metadata": {},
     "output_type": "execute_result"
    }
   ],
   "source": [
    "main"
   ]
  }
 ],
 "metadata": {
  "kernelspec": {
   "display_name": "bd14-despliegue-algo",
   "language": "python",
   "name": "python3"
  },
  "language_info": {
   "codemirror_mode": {
    "name": "ipython",
    "version": 3
   },
   "file_extension": ".py",
   "mimetype": "text/x-python",
   "name": "python",
   "nbconvert_exporter": "python",
   "pygments_lexer": "ipython3",
   "version": "3.11.0"
  }
 },
 "nbformat": 4,
 "nbformat_minor": 2
}
